{
 "cells": [
  {
   "cell_type": "markdown",
   "id": "170834fe",
   "metadata": {
    "papermill": {
     "duration": 0.008913,
     "end_time": "2022-07-27T22:18:22.546697",
     "exception": false,
     "start_time": "2022-07-27T22:18:22.537784",
     "status": "completed"
    },
    "tags": []
   },
   "source": [
    "# **Sentiment Analysis with Twitter Data**"
   ]
  },
  {
   "cell_type": "markdown",
   "id": "a2818f2a",
   "metadata": {
    "papermill": {
     "duration": 0.007523,
     "end_time": "2022-07-27T22:18:22.562128",
     "exception": false,
     "start_time": "2022-07-27T22:18:22.554605",
     "status": "completed"
    },
    "tags": []
   },
   "source": [
    "In this project, I work to classify the sentiment of tweets to be either positive or negative. The dataset used is the Sentiment140 dataset from Kaggle, which is made up of 1.6 million tweets from Twitter that have been denoted either 0 (negative), 2 (neutral), and 4 (positive).\n"
   ]
  },
  {
   "cell_type": "markdown",
   "id": "22c1bfa3",
   "metadata": {
    "papermill": {
     "duration": 0.007332,
     "end_time": "2022-07-27T22:18:22.577356",
     "exception": false,
     "start_time": "2022-07-27T22:18:22.570024",
     "status": "completed"
    },
    "tags": []
   },
   "source": [
    "## Importing Libraries "
   ]
  },
  {
   "cell_type": "code",
   "execution_count": 1,
   "id": "589bda8b",
   "metadata": {
    "execution": {
     "iopub.execute_input": "2022-07-27T22:18:22.594805Z",
     "iopub.status.busy": "2022-07-27T22:18:22.594374Z",
     "iopub.status.idle": "2022-07-27T22:18:35.103743Z",
     "shell.execute_reply": "2022-07-27T22:18:35.102509Z"
    },
    "papermill": {
     "duration": 12.521698,
     "end_time": "2022-07-27T22:18:35.106708",
     "exception": false,
     "start_time": "2022-07-27T22:18:22.585010",
     "status": "completed"
    },
    "tags": []
   },
   "outputs": [],
   "source": [
    "import pandas as pd\n",
    "import numpy as np\n",
    "import matplotlib.pyplot as plt\n",
    "import seaborn as sns\n",
    "import re\n",
    "import nltk\n",
    "from nltk.corpus import stopwords\n",
    "from nltk.stem import SnowballStemmer\n",
    "from sklearn.model_selection import train_test_split\n",
    "from sklearn.preprocessing import LabelEncoder\n",
    "from tensorflow.keras.preprocessing.text import Tokenizer\n",
    "from tensorflow.keras.preprocessing.sequence import pad_sequences\n",
    "from sklearn.metrics import classification_report\n",
    "from sklearn.metrics import confusion_matrix, ConfusionMatrixDisplay"
   ]
  },
  {
   "cell_type": "markdown",
   "id": "4ee03943",
   "metadata": {
    "papermill": {
     "duration": 0.007601,
     "end_time": "2022-07-27T22:18:35.122291",
     "exception": false,
     "start_time": "2022-07-27T22:18:35.114690",
     "status": "completed"
    },
    "tags": []
   },
   "source": [
    "## Understanding the Data"
   ]
  },
  {
   "cell_type": "code",
   "execution_count": 2,
   "id": "c5d51d9e",
   "metadata": {
    "execution": {
     "iopub.execute_input": "2022-07-27T22:18:35.140918Z",
     "iopub.status.busy": "2022-07-27T22:18:35.139760Z",
     "iopub.status.idle": "2022-07-27T22:18:42.147147Z",
     "shell.execute_reply": "2022-07-27T22:18:42.146038Z"
    },
    "papermill": {
     "duration": 7.020079,
     "end_time": "2022-07-27T22:18:42.150206",
     "exception": false,
     "start_time": "2022-07-27T22:18:35.130127",
     "status": "completed"
    },
    "tags": []
   },
   "outputs": [
    {
     "data": {
      "text/html": [
       "<div>\n",
       "<style scoped>\n",
       "    .dataframe tbody tr th:only-of-type {\n",
       "        vertical-align: middle;\n",
       "    }\n",
       "\n",
       "    .dataframe tbody tr th {\n",
       "        vertical-align: top;\n",
       "    }\n",
       "\n",
       "    .dataframe thead th {\n",
       "        text-align: right;\n",
       "    }\n",
       "</style>\n",
       "<table border=\"1\" class=\"dataframe\">\n",
       "  <thead>\n",
       "    <tr style=\"text-align: right;\">\n",
       "      <th></th>\n",
       "      <th>0</th>\n",
       "      <th>1467810369</th>\n",
       "      <th>Mon Apr 06 22:19:45 PDT 2009</th>\n",
       "      <th>NO_QUERY</th>\n",
       "      <th>_TheSpecialOne_</th>\n",
       "      <th>@switchfoot http://twitpic.com/2y1zl - Awww, that's a bummer.  You shoulda got David Carr of Third Day to do it. ;D</th>\n",
       "    </tr>\n",
       "  </thead>\n",
       "  <tbody>\n",
       "    <tr>\n",
       "      <th>0</th>\n",
       "      <td>0</td>\n",
       "      <td>1467810672</td>\n",
       "      <td>Mon Apr 06 22:19:49 PDT 2009</td>\n",
       "      <td>NO_QUERY</td>\n",
       "      <td>scotthamilton</td>\n",
       "      <td>is upset that he can't update his Facebook by ...</td>\n",
       "    </tr>\n",
       "    <tr>\n",
       "      <th>1</th>\n",
       "      <td>0</td>\n",
       "      <td>1467810917</td>\n",
       "      <td>Mon Apr 06 22:19:53 PDT 2009</td>\n",
       "      <td>NO_QUERY</td>\n",
       "      <td>mattycus</td>\n",
       "      <td>@Kenichan I dived many times for the ball. Man...</td>\n",
       "    </tr>\n",
       "    <tr>\n",
       "      <th>2</th>\n",
       "      <td>0</td>\n",
       "      <td>1467811184</td>\n",
       "      <td>Mon Apr 06 22:19:57 PDT 2009</td>\n",
       "      <td>NO_QUERY</td>\n",
       "      <td>ElleCTF</td>\n",
       "      <td>my whole body feels itchy and like its on fire</td>\n",
       "    </tr>\n",
       "    <tr>\n",
       "      <th>3</th>\n",
       "      <td>0</td>\n",
       "      <td>1467811193</td>\n",
       "      <td>Mon Apr 06 22:19:57 PDT 2009</td>\n",
       "      <td>NO_QUERY</td>\n",
       "      <td>Karoli</td>\n",
       "      <td>@nationwideclass no, it's not behaving at all....</td>\n",
       "    </tr>\n",
       "    <tr>\n",
       "      <th>4</th>\n",
       "      <td>0</td>\n",
       "      <td>1467811372</td>\n",
       "      <td>Mon Apr 06 22:20:00 PDT 2009</td>\n",
       "      <td>NO_QUERY</td>\n",
       "      <td>joy_wolf</td>\n",
       "      <td>@Kwesidei not the whole crew</td>\n",
       "    </tr>\n",
       "  </tbody>\n",
       "</table>\n",
       "</div>"
      ],
      "text/plain": [
       "   0  1467810369  Mon Apr 06 22:19:45 PDT 2009  NO_QUERY _TheSpecialOne_  \\\n",
       "0  0  1467810672  Mon Apr 06 22:19:49 PDT 2009  NO_QUERY   scotthamilton   \n",
       "1  0  1467810917  Mon Apr 06 22:19:53 PDT 2009  NO_QUERY        mattycus   \n",
       "2  0  1467811184  Mon Apr 06 22:19:57 PDT 2009  NO_QUERY         ElleCTF   \n",
       "3  0  1467811193  Mon Apr 06 22:19:57 PDT 2009  NO_QUERY          Karoli   \n",
       "4  0  1467811372  Mon Apr 06 22:20:00 PDT 2009  NO_QUERY        joy_wolf   \n",
       "\n",
       "  @switchfoot http://twitpic.com/2y1zl - Awww, that's a bummer.  You shoulda got David Carr of Third Day to do it. ;D  \n",
       "0  is upset that he can't update his Facebook by ...                                                                   \n",
       "1  @Kenichan I dived many times for the ball. Man...                                                                   \n",
       "2    my whole body feels itchy and like its on fire                                                                    \n",
       "3  @nationwideclass no, it's not behaving at all....                                                                   \n",
       "4                      @Kwesidei not the whole crew                                                                    "
      ]
     },
     "execution_count": 2,
     "metadata": {},
     "output_type": "execute_result"
    }
   ],
   "source": [
    "data = pd.read_csv('../input/sentiment140/training.1600000.processed.noemoticon.csv', encoding=\"ISO-8859-1\")\n",
    "data.head()"
   ]
  },
  {
   "cell_type": "markdown",
   "id": "435174af",
   "metadata": {
    "papermill": {
     "duration": 0.008092,
     "end_time": "2022-07-27T22:18:42.166709",
     "exception": false,
     "start_time": "2022-07-27T22:18:42.158617",
     "status": "completed"
    },
    "tags": []
   },
   "source": [
    "We include column headers to increase clarity for personal reference and drop the id, date, query, and username fields, as such information is not relevant to a tweet's sentiment. We also label the sentiment column by mapping values of 0 to 'Negative' and values of 4 to 'Positive'.   "
   ]
  },
  {
   "cell_type": "code",
   "execution_count": 3,
   "id": "5075c6f7",
   "metadata": {
    "execution": {
     "iopub.execute_input": "2022-07-27T22:18:42.184938Z",
     "iopub.status.busy": "2022-07-27T22:18:42.184570Z",
     "iopub.status.idle": "2022-07-27T22:18:42.240510Z",
     "shell.execute_reply": "2022-07-27T22:18:42.239302Z"
    },
    "papermill": {
     "duration": 0.068362,
     "end_time": "2022-07-27T22:18:42.243319",
     "exception": false,
     "start_time": "2022-07-27T22:18:42.174957",
     "status": "completed"
    },
    "tags": []
   },
   "outputs": [
    {
     "data": {
      "text/html": [
       "<div>\n",
       "<style scoped>\n",
       "    .dataframe tbody tr th:only-of-type {\n",
       "        vertical-align: middle;\n",
       "    }\n",
       "\n",
       "    .dataframe tbody tr th {\n",
       "        vertical-align: top;\n",
       "    }\n",
       "\n",
       "    .dataframe thead th {\n",
       "        text-align: right;\n",
       "    }\n",
       "</style>\n",
       "<table border=\"1\" class=\"dataframe\">\n",
       "  <thead>\n",
       "    <tr style=\"text-align: right;\">\n",
       "      <th></th>\n",
       "      <th>sentiment</th>\n",
       "      <th>comment</th>\n",
       "    </tr>\n",
       "  </thead>\n",
       "  <tbody>\n",
       "    <tr>\n",
       "      <th>0</th>\n",
       "      <td>0</td>\n",
       "      <td>is upset that he can't update his Facebook by ...</td>\n",
       "    </tr>\n",
       "    <tr>\n",
       "      <th>1</th>\n",
       "      <td>0</td>\n",
       "      <td>@Kenichan I dived many times for the ball. Man...</td>\n",
       "    </tr>\n",
       "    <tr>\n",
       "      <th>2</th>\n",
       "      <td>0</td>\n",
       "      <td>my whole body feels itchy and like its on fire</td>\n",
       "    </tr>\n",
       "    <tr>\n",
       "      <th>3</th>\n",
       "      <td>0</td>\n",
       "      <td>@nationwideclass no, it's not behaving at all....</td>\n",
       "    </tr>\n",
       "    <tr>\n",
       "      <th>4</th>\n",
       "      <td>0</td>\n",
       "      <td>@Kwesidei not the whole crew</td>\n",
       "    </tr>\n",
       "  </tbody>\n",
       "</table>\n",
       "</div>"
      ],
      "text/plain": [
       "   sentiment                                            comment\n",
       "0          0  is upset that he can't update his Facebook by ...\n",
       "1          0  @Kenichan I dived many times for the ball. Man...\n",
       "2          0    my whole body feels itchy and like its on fire \n",
       "3          0  @nationwideclass no, it's not behaving at all....\n",
       "4          0                      @Kwesidei not the whole crew "
      ]
     },
     "execution_count": 3,
     "metadata": {},
     "output_type": "execute_result"
    }
   ],
   "source": [
    "data.columns = ['sentiment', 'id', 'date', 'query', 'username','comment']\n",
    "data = data.drop(['id', 'date', 'query', 'username'], axis=1)\n",
    "data.head()"
   ]
  },
  {
   "cell_type": "code",
   "execution_count": 4,
   "id": "d1eb598b",
   "metadata": {
    "execution": {
     "iopub.execute_input": "2022-07-27T22:18:42.263587Z",
     "iopub.status.busy": "2022-07-27T22:18:42.263228Z",
     "iopub.status.idle": "2022-07-27T22:18:42.285840Z",
     "shell.execute_reply": "2022-07-27T22:18:42.284796Z"
    },
    "papermill": {
     "duration": 0.035998,
     "end_time": "2022-07-27T22:18:42.288140",
     "exception": false,
     "start_time": "2022-07-27T22:18:42.252142",
     "status": "completed"
    },
    "tags": []
   },
   "outputs": [
    {
     "data": {
      "text/html": [
       "<div>\n",
       "<style scoped>\n",
       "    .dataframe tbody tr th:only-of-type {\n",
       "        vertical-align: middle;\n",
       "    }\n",
       "\n",
       "    .dataframe tbody tr th {\n",
       "        vertical-align: top;\n",
       "    }\n",
       "\n",
       "    .dataframe thead th {\n",
       "        text-align: right;\n",
       "    }\n",
       "</style>\n",
       "<table border=\"1\" class=\"dataframe\">\n",
       "  <thead>\n",
       "    <tr style=\"text-align: right;\">\n",
       "      <th></th>\n",
       "      <th>sentiment</th>\n",
       "      <th>comment</th>\n",
       "    </tr>\n",
       "  </thead>\n",
       "  <tbody>\n",
       "    <tr>\n",
       "      <th>0</th>\n",
       "      <td>0</td>\n",
       "      <td>is upset that he can't update his Facebook by ...</td>\n",
       "    </tr>\n",
       "    <tr>\n",
       "      <th>1</th>\n",
       "      <td>0</td>\n",
       "      <td>@Kenichan I dived many times for the ball. Man...</td>\n",
       "    </tr>\n",
       "    <tr>\n",
       "      <th>2</th>\n",
       "      <td>0</td>\n",
       "      <td>my whole body feels itchy and like its on fire</td>\n",
       "    </tr>\n",
       "    <tr>\n",
       "      <th>3</th>\n",
       "      <td>0</td>\n",
       "      <td>@nationwideclass no, it's not behaving at all....</td>\n",
       "    </tr>\n",
       "    <tr>\n",
       "      <th>4</th>\n",
       "      <td>0</td>\n",
       "      <td>@Kwesidei not the whole crew</td>\n",
       "    </tr>\n",
       "  </tbody>\n",
       "</table>\n",
       "</div>"
      ],
      "text/plain": [
       "   sentiment                                            comment\n",
       "0          0  is upset that he can't update his Facebook by ...\n",
       "1          0  @Kenichan I dived many times for the ball. Man...\n",
       "2          0    my whole body feels itchy and like its on fire \n",
       "3          0  @nationwideclass no, it's not behaving at all....\n",
       "4          0                      @Kwesidei not the whole crew "
      ]
     },
     "execution_count": 4,
     "metadata": {},
     "output_type": "execute_result"
    }
   ],
   "source": [
    "sentiment = data['sentiment']\n",
    "sentiment = data['sentiment'].replace(4,1)\n",
    "data.head()\n"
   ]
  },
  {
   "cell_type": "code",
   "execution_count": 5,
   "id": "f3316e01",
   "metadata": {
    "execution": {
     "iopub.execute_input": "2022-07-27T22:18:42.307635Z",
     "iopub.status.busy": "2022-07-27T22:18:42.306971Z",
     "iopub.status.idle": "2022-07-27T22:18:42.653495Z",
     "shell.execute_reply": "2022-07-27T22:18:42.652323Z"
    },
    "papermill": {
     "duration": 0.358953,
     "end_time": "2022-07-27T22:18:42.655874",
     "exception": false,
     "start_time": "2022-07-27T22:18:42.296921",
     "status": "completed"
    },
    "tags": []
   },
   "outputs": [
    {
     "name": "stderr",
     "output_type": "stream",
     "text": [
      "/opt/conda/lib/python3.7/site-packages/seaborn/_decorators.py:43: FutureWarning: Pass the following variable as a keyword arg: x. From version 0.12, the only valid positional argument will be `data`, and passing other arguments without an explicit keyword will result in an error or misinterpretation.\n",
      "  FutureWarning\n"
     ]
    },
    {
     "data": {
      "text/plain": [
       "Text(0, 0.5, 'Count')"
      ]
     },
     "execution_count": 5,
     "metadata": {},
     "output_type": "execute_result"
    },
    {
     "data": {
      "image/png": "[encoded data removed]",
      "text/plain": [
       "<Figure size 432x288 with 1 Axes>"
      ]
     },
     "metadata": {
      "needs_background": "light"
     },
     "output_type": "display_data"
    }
   ],
   "source": [
    "# plt.figure(figsize=(8,4))\n",
    "# plt.bar(x = data.sentiment.index, height = data.sentiment.values)\n",
    "# plt.title(\"Sentiment Data\")\n",
    "\n",
    "plot = sns.countplot(data['sentiment'])\n",
    "plot.set_xlabel(\"Sentiment\")\n",
    "plot.set_ylabel(\"Count\")"
   ]
  },
  {
   "cell_type": "markdown",
   "id": "16c654d3",
   "metadata": {
    "papermill": {
     "duration": 0.009016,
     "end_time": "2022-07-27T22:18:42.674396",
     "exception": false,
     "start_time": "2022-07-27T22:18:42.665380",
     "status": "completed"
    },
    "tags": []
   },
   "source": [
    "From the graph, we observe that the sentiment data is evenly distributed."
   ]
  },
  {
   "cell_type": "code",
   "execution_count": 6,
   "id": "8399b9b5",
   "metadata": {
    "execution": {
     "iopub.execute_input": "2022-07-27T22:18:42.696060Z",
     "iopub.status.busy": "2022-07-27T22:18:42.695320Z",
     "iopub.status.idle": "2022-07-27T22:18:42.723531Z",
     "shell.execute_reply": "2022-07-27T22:18:42.722352Z"
    },
    "papermill": {
     "duration": 0.042071,
     "end_time": "2022-07-27T22:18:42.726189",
     "exception": false,
     "start_time": "2022-07-27T22:18:42.684118",
     "status": "completed"
    },
    "tags": []
   },
   "outputs": [
    {
     "data": {
      "text/plain": [
       "\"is upset that he can't update his Facebook by texting it... and might cry as a result  School today also. Blah!\""
      ]
     },
     "execution_count": 6,
     "metadata": {},
     "output_type": "execute_result"
    }
   ],
   "source": [
    "comments = np.array(data['comment'])\n",
    "comments[0]"
   ]
  },
  {
   "cell_type": "markdown",
   "id": "4f8d5df2",
   "metadata": {
    "papermill": {
     "duration": 0.009245,
     "end_time": "2022-07-27T22:18:42.744766",
     "exception": false,
     "start_time": "2022-07-27T22:18:42.735521",
     "status": "completed"
    },
    "tags": []
   },
   "source": [
    "## Data Cleaning + Preprocessing for Model\n",
    "\n",
    "The next step is to clean the data by:\n",
    "* removing unnecessary symbols and spaces \n",
    "* removing stopwords (words with no contextual meaning)\n",
    "* stemming words"
   ]
  },
  {
   "cell_type": "code",
   "execution_count": 7,
   "id": "23f30e91",
   "metadata": {
    "execution": {
     "iopub.execute_input": "2022-07-27T22:18:42.766856Z",
     "iopub.status.busy": "2022-07-27T22:18:42.765788Z",
     "iopub.status.idle": "2022-07-27T22:20:00.909972Z",
     "shell.execute_reply": "2022-07-27T22:20:00.908701Z"
    },
    "papermill": {
     "duration": 78.166735,
     "end_time": "2022-07-27T22:20:00.921616",
     "exception": false,
     "start_time": "2022-07-27T22:18:42.754881",
     "status": "completed"
    },
    "tags": []
   },
   "outputs": [
    {
     "name": "stdout",
     "output_type": "stream",
     "text": [
      "is upset that he can t update his Facebook by texting it and might cry as a result School today also Blah\n"
     ]
    }
   ],
   "source": [
    "def clean_comment(comment):\n",
    "  comment = re.sub(r'#\\w*','',comment)\n",
    "  comment = re.sub(r'@\\w*','',comment)\n",
    "  comment = re.sub(r'https?:\\S*','',comment) \n",
    "  comment = re.sub(r'\\d*','',comment) \n",
    "  comment = re.sub(r'\\W+',' ',comment) \n",
    "  comment = re.sub(r'_','',comment) \n",
    "  comment = re.sub(r'\\s\\S$','',comment) \n",
    "  comment = re.sub(r'^\\s','',comment) \n",
    "  comment = re.sub(r'\\s$','',comment) \n",
    "  return comment\n",
    "\n",
    "cleaned_comments = []\n",
    "comments = np.array(data['comment'])\n",
    "for comment in comments:\n",
    "    cleaned_comments.append(clean_comment(comment))\n",
    "print(cleaned_comments[0])"
   ]
  },
  {
   "cell_type": "code",
   "execution_count": 8,
   "id": "54d1a2db",
   "metadata": {
    "execution": {
     "iopub.execute_input": "2022-07-27T22:20:00.944208Z",
     "iopub.status.busy": "2022-07-27T22:20:00.943801Z",
     "iopub.status.idle": "2022-07-27T22:20:07.290019Z",
     "shell.execute_reply": "2022-07-27T22:20:07.288814Z"
    },
    "papermill": {
     "duration": 6.360377,
     "end_time": "2022-07-27T22:20:07.292427",
     "exception": false,
     "start_time": "2022-07-27T22:20:00.932050",
     "status": "completed"
    },
    "tags": []
   },
   "outputs": [
    {
     "name": "stdout",
     "output_type": "stream",
     "text": [
      "['is', 'upset', 'that', 'he', 'can', 't', 'update', 'his', 'Facebook', 'by', 'texting', 'it', 'and', 'might', 'cry', 'as', 'a', 'result', 'School', 'today', 'also', 'Blah']\n"
     ]
    }
   ],
   "source": [
    "split_comments = []\n",
    "for comment in cleaned_comments:\n",
    "    split_comments.append(comment.split())\n",
    "print(split_comments[0])"
   ]
  },
  {
   "cell_type": "code",
   "execution_count": 9,
   "id": "057f979f",
   "metadata": {
    "execution": {
     "iopub.execute_input": "2022-07-27T22:20:07.314837Z",
     "iopub.status.busy": "2022-07-27T22:20:07.313812Z",
     "iopub.status.idle": "2022-07-27T22:20:07.344645Z",
     "shell.execute_reply": "2022-07-27T22:20:07.343125Z"
    },
    "papermill": {
     "duration": 0.044727,
     "end_time": "2022-07-27T22:20:07.346927",
     "exception": false,
     "start_time": "2022-07-27T22:20:07.302200",
     "status": "completed"
    },
    "tags": []
   },
   "outputs": [
    {
     "name": "stdout",
     "output_type": "stream",
     "text": [
      "['i', 'me', 'my', 'myself', 'we', 'our', 'ours', 'ourselves', 'you', \"you're\", \"you've\", \"you'll\", \"you'd\", 'your', 'yours', 'yourself', 'yourselves', 'he', 'him', 'his', 'himself', 'she', \"she's\", 'her', 'hers', 'herself', 'it', \"it's\", 'its', 'itself', 'they', 'them', 'their', 'theirs', 'themselves', 'what', 'which', 'who', 'whom', 'this', 'that', \"that'll\", 'these', 'those', 'am', 'is', 'are', 'was', 'were', 'be', 'been', 'being', 'have', 'has', 'had', 'having', 'do', 'does', 'did', 'doing', 'a', 'an', 'the', 'and', 'but', 'if', 'or', 'because', 'as', 'until', 'while', 'of', 'at', 'by', 'for', 'with', 'about', 'against', 'between', 'into', 'through', 'during', 'before', 'after', 'above', 'below', 'to', 'from', 'up', 'down', 'in', 'out', 'on', 'off', 'over', 'under', 'again', 'further', 'then', 'once', 'here', 'there', 'when', 'where', 'why', 'how', 'all', 'any', 'both', 'each', 'few', 'more', 'most', 'other', 'some', 'such', 'no', 'nor', 'not', 'only', 'own', 'same', 'so', 'than', 'too', 'very', 's', 't', 'can', 'will', 'just', 'don', \"don't\", 'should', \"should've\", 'now', 'd', 'll', 'm', 'o', 're', 've', 'y', 'ain', 'aren', \"aren't\", 'couldn', \"couldn't\", 'didn', \"didn't\", 'doesn', \"doesn't\", 'hadn', \"hadn't\", 'hasn', \"hasn't\", 'haven', \"haven't\", 'isn', \"isn't\", 'ma', 'mightn', \"mightn't\", 'mustn', \"mustn't\", 'needn', \"needn't\", 'shan', \"shan't\", 'shouldn', \"shouldn't\", 'wasn', \"wasn't\", 'weren', \"weren't\", 'won', \"won't\", 'wouldn', \"wouldn't\"]\n"
     ]
    }
   ],
   "source": [
    "stop_words = stopwords.words('english')\n",
    "print(stop_words)"
   ]
  },
  {
   "cell_type": "code",
   "execution_count": 10,
   "id": "dcb7cf64",
   "metadata": {
    "execution": {
     "iopub.execute_input": "2022-07-27T22:20:07.368973Z",
     "iopub.status.busy": "2022-07-27T22:20:07.368300Z",
     "iopub.status.idle": "2022-07-27T22:20:07.373715Z",
     "shell.execute_reply": "2022-07-27T22:20:07.372530Z"
    },
    "papermill": {
     "duration": 0.019023,
     "end_time": "2022-07-27T22:20:07.376144",
     "exception": false,
     "start_time": "2022-07-27T22:20:07.357121",
     "status": "completed"
    },
    "tags": []
   },
   "outputs": [],
   "source": [
    "def remove_stopwords(words):\n",
    "    final_words = []\n",
    "    for word in words:\n",
    "        if word.lower() not in stop_words:\n",
    "            final_words.append(word)\n",
    "    return final_words\n",
    "    "
   ]
  },
  {
   "cell_type": "code",
   "execution_count": 11,
   "id": "800b9cc3",
   "metadata": {
    "execution": {
     "iopub.execute_input": "2022-07-27T22:20:07.397542Z",
     "iopub.status.busy": "2022-07-27T22:20:07.397147Z",
     "iopub.status.idle": "2022-07-27T22:20:47.643763Z",
     "shell.execute_reply": "2022-07-27T22:20:47.642553Z"
    },
    "papermill": {
     "duration": 40.269095,
     "end_time": "2022-07-27T22:20:47.655197",
     "exception": false,
     "start_time": "2022-07-27T22:20:07.386102",
     "status": "completed"
    },
    "tags": []
   },
   "outputs": [
    {
     "name": "stdout",
     "output_type": "stream",
     "text": [
      "['upset', 'update', 'Facebook', 'texting', 'might', 'cry', 'result', 'School', 'today', 'also', 'Blah']\n"
     ]
    }
   ],
   "source": [
    "clean_comments=[]\n",
    "for comment in split_comments:\n",
    "    clean_comments.append(remove_stopwords(comment))\n",
    "print(clean_comments[0])"
   ]
  },
  {
   "cell_type": "code",
   "execution_count": 12,
   "id": "7c3f1736",
   "metadata": {
    "execution": {
     "iopub.execute_input": "2022-07-27T22:20:47.676943Z",
     "iopub.status.busy": "2022-07-27T22:20:47.676560Z",
     "iopub.status.idle": "2022-07-27T22:20:52.635084Z",
     "shell.execute_reply": "2022-07-27T22:20:52.634017Z"
    },
    "papermill": {
     "duration": 4.972809,
     "end_time": "2022-07-27T22:20:52.637912",
     "exception": false,
     "start_time": "2022-07-27T22:20:47.665103",
     "status": "completed"
    },
    "tags": []
   },
   "outputs": [
    {
     "name": "stdout",
     "output_type": "stream",
     "text": [
      "['upset', 'update', 'facebook', 'texting', 'might', 'cry', 'result', 'school', 'today', 'also', 'blah']\n"
     ]
    }
   ],
   "source": [
    "for comment in range(len(clean_comments)):\n",
    "  for i in range(len(clean_comments[comment])):\n",
    "    clean_comments[comment][i] = clean_comments[comment][i].lower()\n",
    "print(clean_comments[0])"
   ]
  },
  {
   "cell_type": "code",
   "execution_count": 13,
   "id": "b3e8b1b8",
   "metadata": {
    "execution": {
     "iopub.execute_input": "2022-07-27T22:20:52.660753Z",
     "iopub.status.busy": "2022-07-27T22:20:52.659926Z",
     "iopub.status.idle": "2022-07-27T22:24:05.787417Z",
     "shell.execute_reply": "2022-07-27T22:24:05.786275Z"
    },
    "papermill": {
     "duration": 193.141792,
     "end_time": "2022-07-27T22:24:05.790284",
     "exception": false,
     "start_time": "2022-07-27T22:20:52.648492",
     "status": "completed"
    },
    "tags": []
   },
   "outputs": [],
   "source": [
    "stemmer = SnowballStemmer('english')\n",
    "for i in range(len(clean_comments)):\n",
    "    for j in range(len(clean_comments[i])):\n",
    "        clean_comments[i][j] = stemmer.stem(clean_comments[i][j])"
   ]
  },
  {
   "cell_type": "code",
   "execution_count": 14,
   "id": "fa4eb8e1",
   "metadata": {
    "execution": {
     "iopub.execute_input": "2022-07-27T22:24:05.814107Z",
     "iopub.status.busy": "2022-07-27T22:24:05.812910Z",
     "iopub.status.idle": "2022-07-27T22:24:31.442564Z",
     "shell.execute_reply": "2022-07-27T22:24:31.441408Z"
    },
    "papermill": {
     "duration": 25.644087,
     "end_time": "2022-07-27T22:24:31.444942",
     "exception": false,
     "start_time": "2022-07-27T22:24:05.800855",
     "status": "completed"
    },
    "tags": []
   },
   "outputs": [
    {
     "data": {
      "text/plain": [
       "[591, 219, 431, 352, 203, 233, 967, 75, 9, 186, 983]"
      ]
     },
     "execution_count": 14,
     "metadata": {},
     "output_type": "execute_result"
    }
   ],
   "source": [
    "tokenizer = Tokenizer()\n",
    "tokenizer.fit_on_texts(clean_comments)\n",
    "seq_comments = tokenizer.texts_to_sequences(clean_comments)\n",
    "seq_comments[0]"
   ]
  },
  {
   "cell_type": "code",
   "execution_count": 15,
   "id": "f187299e",
   "metadata": {
    "execution": {
     "iopub.execute_input": "2022-07-27T22:24:31.468162Z",
     "iopub.status.busy": "2022-07-27T22:24:31.467765Z",
     "iopub.status.idle": "2022-07-27T22:24:39.149114Z",
     "shell.execute_reply": "2022-07-27T22:24:39.147917Z"
    },
    "papermill": {
     "duration": 7.695569,
     "end_time": "2022-07-27T22:24:39.151615",
     "exception": false,
     "start_time": "2022-07-27T22:24:31.456046",
     "status": "completed"
    },
    "tags": []
   },
   "outputs": [
    {
     "data": {
      "text/plain": [
       "array([  0,   0,   0,   0,   0,   0,   0,   0,   0,   0,   0,   0,   0,\n",
       "         0,   0,   0,   0,   0,   0,   0,   0,   0,   0,   0,   0,   0,\n",
       "         0,   0,   0,   0,   0,   0,   0,   0,   0,   0,   0,   0,   0,\n",
       "         0,   0,   0,   0,   0,   0,   0,   0,   0,   0,   0,   0,   0,\n",
       "         0,   0,   0,   0,   0,   0,   0,   0,   0,   0,   0,   0,   0,\n",
       "         0,   0,   0,   0,   0,   0,   0,   0,   0,   0,   0,   0,   0,\n",
       "         0,   0,   0,   0,   0,   0,   0,   0,   0,   0,   0,   0,   0,\n",
       "         0,   0,   0,   0,   0,   0,   0,   0,   0,   0,   0,   0,   0,\n",
       "         0,   0,   0, 591, 219, 431, 352, 203, 233, 967,  75,   9, 186,\n",
       "       983], dtype=int32)"
      ]
     },
     "execution_count": 15,
     "metadata": {},
     "output_type": "execute_result"
    }
   ],
   "source": [
    "pad_seq_comments=pad_sequences(seq_comments)\n",
    "pad_seq_comments[0]"
   ]
  },
  {
   "cell_type": "code",
   "execution_count": 16,
   "id": "4ed6e6b1",
   "metadata": {
    "execution": {
     "iopub.execute_input": "2022-07-27T22:24:39.175121Z",
     "iopub.status.busy": "2022-07-27T22:24:39.174713Z",
     "iopub.status.idle": "2022-07-27T22:24:39.191713Z",
     "shell.execute_reply": "2022-07-27T22:24:39.190396Z"
    },
    "papermill": {
     "duration": 0.032074,
     "end_time": "2022-07-27T22:24:39.194410",
     "exception": false,
     "start_time": "2022-07-27T22:24:39.162336",
     "status": "completed"
    },
    "tags": []
   },
   "outputs": [
    {
     "data": {
      "text/plain": [
       "0          0\n",
       "1          0\n",
       "2          0\n",
       "3          0\n",
       "4          0\n",
       "          ..\n",
       "1599994    4\n",
       "1599995    4\n",
       "1599996    4\n",
       "1599997    4\n",
       "1599998    4\n",
       "Name: sentiment, Length: 1599999, dtype: int64"
      ]
     },
     "execution_count": 16,
     "metadata": {},
     "output_type": "execute_result"
    }
   ],
   "source": [
    "sentiment = data['sentiment']\n",
    "sentiment = data['sentiment'].replace(4,1)\n",
    "data['sentiment']"
   ]
  },
  {
   "cell_type": "code",
   "execution_count": 17,
   "id": "053079eb",
   "metadata": {
    "execution": {
     "iopub.execute_input": "2022-07-27T22:24:39.218517Z",
     "iopub.status.busy": "2022-07-27T22:24:39.217854Z",
     "iopub.status.idle": "2022-07-27T22:24:39.238528Z",
     "shell.execute_reply": "2022-07-27T22:24:39.237424Z"
    },
    "papermill": {
     "duration": 0.035561,
     "end_time": "2022-07-27T22:24:39.241305",
     "exception": false,
     "start_time": "2022-07-27T22:24:39.205744",
     "status": "completed"
    },
    "tags": []
   },
   "outputs": [
    {
     "data": {
      "text/plain": [
       "array([0, 1])"
      ]
     },
     "execution_count": 17,
     "metadata": {},
     "output_type": "execute_result"
    }
   ],
   "source": [
    "sentiment.unique()"
   ]
  },
  {
   "cell_type": "code",
   "execution_count": 18,
   "id": "ae23a8d1",
   "metadata": {
    "execution": {
     "iopub.execute_input": "2022-07-27T22:24:39.265141Z",
     "iopub.status.busy": "2022-07-27T22:24:39.264731Z",
     "iopub.status.idle": "2022-07-27T22:24:39.271494Z",
     "shell.execute_reply": "2022-07-27T22:24:39.270511Z"
    },
    "papermill": {
     "duration": 0.02118,
     "end_time": "2022-07-27T22:24:39.273640",
     "exception": false,
     "start_time": "2022-07-27T22:24:39.252460",
     "status": "completed"
    },
    "tags": []
   },
   "outputs": [
    {
     "data": {
      "text/plain": [
       "221038"
      ]
     },
     "execution_count": 18,
     "metadata": {},
     "output_type": "execute_result"
    }
   ],
   "source": [
    "word_amt = len(tokenizer.word_index)\n",
    "word_amt"
   ]
  },
  {
   "cell_type": "markdown",
   "id": "0cb2c1a0",
   "metadata": {
    "papermill": {
     "duration": 0.01089,
     "end_time": "2022-07-27T22:24:39.295770",
     "exception": false,
     "start_time": "2022-07-27T22:24:39.284880",
     "status": "completed"
    },
    "tags": []
   },
   "source": [
    "## Model Building\n",
    "We can now build the model with a LSTM neural network."
   ]
  },
  {
   "cell_type": "code",
   "execution_count": 19,
   "id": "11f0acd3",
   "metadata": {
    "execution": {
     "iopub.execute_input": "2022-07-27T22:24:39.320108Z",
     "iopub.status.busy": "2022-07-27T22:24:39.319356Z",
     "iopub.status.idle": "2022-07-27T22:24:39.871241Z",
     "shell.execute_reply": "2022-07-27T22:24:39.870064Z"
    },
    "papermill": {
     "duration": 0.566917,
     "end_time": "2022-07-27T22:24:39.873834",
     "exception": false,
     "start_time": "2022-07-27T22:24:39.306917",
     "status": "completed"
    },
    "tags": []
   },
   "outputs": [],
   "source": [
    "x_train,x_test,y_train,y_test = train_test_split(pad_seq_comments,sentiment,test_size=0.1)"
   ]
  },
  {
   "cell_type": "code",
   "execution_count": 20,
   "id": "fb521412",
   "metadata": {
    "execution": {
     "iopub.execute_input": "2022-07-27T22:24:39.898474Z",
     "iopub.status.busy": "2022-07-27T22:24:39.898076Z",
     "iopub.status.idle": "2022-07-27T22:24:39.905663Z",
     "shell.execute_reply": "2022-07-27T22:24:39.904518Z"
    },
    "papermill": {
     "duration": 0.022512,
     "end_time": "2022-07-27T22:24:39.908035",
     "exception": false,
     "start_time": "2022-07-27T22:24:39.885523",
     "status": "completed"
    },
    "tags": []
   },
   "outputs": [
    {
     "data": {
      "text/plain": [
       "array([[    0,     0,     0, ...,    12, 12100,   717],\n",
       "       [    0,     0,     0, ...,     0,   194, 18677],\n",
       "       [    0,     0,     0, ...,    84,   905,   316],\n",
       "       ...,\n",
       "       [    0,     0,     0, ...,   103,   506,    60],\n",
       "       [    0,     0,     0, ...,    65,   210,   254],\n",
       "       [    0,     0,     0, ...,   338,   173,   260]], dtype=int32)"
      ]
     },
     "execution_count": 20,
     "metadata": {},
     "output_type": "execute_result"
    }
   ],
   "source": [
    "x_train"
   ]
  },
  {
   "cell_type": "code",
   "execution_count": 21,
   "id": "235d1fdc",
   "metadata": {
    "execution": {
     "iopub.execute_input": "2022-07-27T22:24:39.933184Z",
     "iopub.status.busy": "2022-07-27T22:24:39.932669Z",
     "iopub.status.idle": "2022-07-27T22:24:39.941998Z",
     "shell.execute_reply": "2022-07-27T22:24:39.940757Z"
    },
    "papermill": {
     "duration": 0.02484,
     "end_time": "2022-07-27T22:24:39.944523",
     "exception": false,
     "start_time": "2022-07-27T22:24:39.919683",
     "status": "completed"
    },
    "tags": []
   },
   "outputs": [
    {
     "data": {
      "text/plain": [
       "907937     1\n",
       "998113     1\n",
       "1382300    1\n",
       "1004606    1\n",
       "289686     0\n",
       "          ..\n",
       "1586178    1\n",
       "6223       0\n",
       "1167885    1\n",
       "1226297    1\n",
       "335725     0\n",
       "Name: sentiment, Length: 1439999, dtype: int64"
      ]
     },
     "execution_count": 21,
     "metadata": {},
     "output_type": "execute_result"
    }
   ],
   "source": [
    "y_train"
   ]
  },
  {
   "cell_type": "code",
   "execution_count": 22,
   "id": "03e9a18b",
   "metadata": {
    "execution": {
     "iopub.execute_input": "2022-07-27T22:24:39.972410Z",
     "iopub.status.busy": "2022-07-27T22:24:39.971415Z",
     "iopub.status.idle": "2022-07-27T22:24:40.665969Z",
     "shell.execute_reply": "2022-07-27T22:24:40.664781Z"
    },
    "papermill": {
     "duration": 0.710997,
     "end_time": "2022-07-27T22:24:40.668544",
     "exception": false,
     "start_time": "2022-07-27T22:24:39.957547",
     "status": "completed"
    },
    "tags": []
   },
   "outputs": [
    {
     "name": "stderr",
     "output_type": "stream",
     "text": [
      "2022-07-27 22:24:40.017668: I tensorflow/core/common_runtime/process_util.cc:146] Creating new thread pool with default inter op setting: 2. Tune using inter_op_parallelism_threads for best performance.\n"
     ]
    },
    {
     "name": "stdout",
     "output_type": "stream",
     "text": [
      "Model: \"sequential\"\n",
      "_________________________________________________________________\n",
      "Layer (type)                 Output Shape              Param #   \n",
      "=================================================================\n",
      "embedding (Embedding)        (None, 50, 15)            3315585   \n",
      "_________________________________________________________________\n",
      "bidirectional (Bidirectional (None, 128)               40960     \n",
      "_________________________________________________________________\n",
      "dense (Dense)                (None, 1)                 129       \n",
      "=================================================================\n",
      "Total params: 3,356,674\n",
      "Trainable params: 3,356,674\n",
      "Non-trainable params: 0\n",
      "_________________________________________________________________\n"
     ]
    }
   ],
   "source": [
    "from tensorflow.keras.models import Sequential\n",
    "from tensorflow.keras.layers import LSTM,Dense,Dropout,Embedding,Bidirectional\n",
    "from tensorflow.keras.callbacks import ReduceLROnPlateau\n",
    "\n",
    "\n",
    "model = Sequential()\n",
    "model.add(Embedding(word_amt+1,15,input_length=50))\n",
    "model.add(Bidirectional(LSTM(units=64)))\n",
    "model.add(Dense(1,activation='sigmoid'))\n",
    "\n",
    "model.compile(optimizer='Adam',\n",
    "              loss=\"binary_crossentropy\",\n",
    "              metrics=['accuracy'])\n",
    "model.summary()"
   ]
  },
  {
   "cell_type": "code",
   "execution_count": 23,
   "id": "d5f99625",
   "metadata": {
    "execution": {
     "iopub.execute_input": "2022-07-27T22:24:40.694510Z",
     "iopub.status.busy": "2022-07-27T22:24:40.693864Z",
     "iopub.status.idle": "2022-07-27T23:54:06.332672Z",
     "shell.execute_reply": "2022-07-27T23:54:06.329720Z"
    },
    "papermill": {
     "duration": 5365.655675,
     "end_time": "2022-07-27T23:54:06.336283",
     "exception": false,
     "start_time": "2022-07-27T22:24:40.680608",
     "status": "completed"
    },
    "tags": []
   },
   "outputs": [
    {
     "name": "stderr",
     "output_type": "stream",
     "text": [
      "2022-07-27 22:24:41.350607: I tensorflow/compiler/mlir/mlir_graph_optimization_pass.cc:185] None of the MLIR Optimization Passes are enabled (registered 2)\n"
     ]
    },
    {
     "name": "stdout",
     "output_type": "stream",
     "text": [
      "Epoch 1/5\n",
      "1266/1266 [==============================] - 1031s 811ms/step - loss: 0.4895 - accuracy: 0.7617 - val_loss: 0.4669 - val_accuracy: 0.7771\n",
      "Epoch 2/5\n",
      "1266/1266 [==============================] - 1064s 840ms/step - loss: 0.4456 - accuracy: 0.7902 - val_loss: 0.4607 - val_accuracy: 0.7808\n",
      "Epoch 3/5\n",
      "1266/1266 [==============================] - 1082s 854ms/step - loss: 0.4278 - accuracy: 0.7997 - val_loss: 0.4644 - val_accuracy: 0.7795\n",
      "Epoch 4/5\n",
      "1266/1266 [==============================] - 1074s 848ms/step - loss: 0.4093 - accuracy: 0.8091 - val_loss: 0.4722 - val_accuracy: 0.7767\n",
      "Epoch 5/5\n",
      "1266/1266 [==============================] - 1071s 846ms/step - loss: 0.3943 - accuracy: 0.8171 - val_loss: 0.4820 - val_accuracy: 0.7768\n"
     ]
    }
   ],
   "source": [
    "history = model.fit(x_train,y_train,\n",
    "                    validation_data = (x_test, y_test),\n",
    "                    validation_split=0.1,\n",
    "                    batch_size=1024,\n",
    "                    verbose = 1,\n",
    "                    epochs=5)"
   ]
  },
  {
   "cell_type": "code",
   "execution_count": 24,
   "id": "1f88d2b7",
   "metadata": {
    "execution": {
     "iopub.execute_input": "2022-07-27T23:54:07.294293Z",
     "iopub.status.busy": "2022-07-27T23:54:07.293357Z",
     "iopub.status.idle": "2022-07-27T23:57:23.515292Z",
     "shell.execute_reply": "2022-07-27T23:57:23.513960Z"
    },
    "papermill": {
     "duration": 197.259606,
     "end_time": "2022-07-27T23:57:24.067835",
     "exception": false,
     "start_time": "2022-07-27T23:54:06.808229",
     "status": "completed"
    },
    "tags": []
   },
   "outputs": [
    {
     "data": {
      "text/plain": [
       "array([[0.51068753],\n",
       "       [0.06143385],\n",
       "       [0.8882861 ],\n",
       "       ...,\n",
       "       [0.5128004 ],\n",
       "       [0.12712082],\n",
       "       [0.934564  ]], dtype=float32)"
      ]
     },
     "execution_count": 24,
     "metadata": {},
     "output_type": "execute_result"
    }
   ],
   "source": [
    "predictions = model.predict(x_test)\n",
    "predictions"
   ]
  },
  {
   "cell_type": "code",
   "execution_count": 25,
   "id": "5dee1351",
   "metadata": {
    "execution": {
     "iopub.execute_input": "2022-07-27T23:57:25.019537Z",
     "iopub.status.busy": "2022-07-27T23:57:25.018751Z",
     "iopub.status.idle": "2022-07-27T23:57:25.465452Z",
     "shell.execute_reply": "2022-07-27T23:57:25.464268Z"
    },
    "papermill": {
     "duration": 0.92755,
     "end_time": "2022-07-27T23:57:25.467803",
     "exception": false,
     "start_time": "2022-07-27T23:57:24.540253",
     "status": "completed"
    },
    "tags": []
   },
   "outputs": [
    {
     "data": {
      "text/plain": [
       "0.7769875"
      ]
     },
     "execution_count": 25,
     "metadata": {},
     "output_type": "execute_result"
    }
   ],
   "source": [
    "from sklearn.metrics import accuracy_score\n",
    "\n",
    "result = []\n",
    "for pred in predictions:\n",
    "  if pred >= 0.5:\n",
    "    result.append(1)\n",
    "  else:\n",
    "    result.append(0)\n",
    "\n",
    "accuracy_score(y_test,result)"
   ]
  },
  {
   "cell_type": "markdown",
   "id": "2b200c5f",
   "metadata": {
    "papermill": {
     "duration": 0.465628,
     "end_time": "2022-07-27T23:57:26.407717",
     "exception": false,
     "start_time": "2022-07-27T23:57:25.942089",
     "status": "completed"
    },
    "tags": []
   },
   "source": [
    "We observe that the model results in a test accuracy of 77.61%."
   ]
  },
  {
   "cell_type": "markdown",
   "id": "3800cb29",
   "metadata": {
    "papermill": {
     "duration": 0.479521,
     "end_time": "2022-07-27T23:57:27.424640",
     "exception": false,
     "start_time": "2022-07-27T23:57:26.945119",
     "status": "completed"
    },
    "tags": []
   },
   "source": [
    "## Model Performance\n",
    "\n",
    "Below are visualizations of the model's performance."
   ]
  },
  {
   "cell_type": "code",
   "execution_count": 26,
   "id": "34b61620",
   "metadata": {
    "execution": {
     "iopub.execute_input": "2022-07-27T23:57:28.364384Z",
     "iopub.status.busy": "2022-07-27T23:57:28.363729Z",
     "iopub.status.idle": "2022-07-28T00:00:46.347158Z",
     "shell.execute_reply": "2022-07-28T00:00:46.346225Z"
    },
    "papermill": {
     "duration": 198.919279,
     "end_time": "2022-07-28T00:00:46.811878",
     "exception": false,
     "start_time": "2022-07-27T23:57:27.892599",
     "status": "completed"
    },
    "tags": []
   },
   "outputs": [
    {
     "name": "stdout",
     "output_type": "stream",
     "text": [
      "Test Accuracy Results\n",
      "              precision    recall  f1-score   support\n",
      "\n",
      "           0       0.77      0.79      0.78     79977\n",
      "           1       0.78      0.77      0.77     80023\n",
      "\n",
      "    accuracy                           0.78    160000\n",
      "   macro avg       0.78      0.78      0.78    160000\n",
      "weighted avg       0.78      0.78      0.78    160000\n",
      "\n"
     ]
    },
    {
     "data": {
      "image/png": "[encoded data removed]",
      "text/plain": [
       "<Figure size 432x288 with 2 Axes>"
      ]
     },
     "metadata": {
      "needs_background": "light"
     },
     "output_type": "display_data"
    }
   ],
   "source": [
    "print(\"Test Accuracy Results\")\n",
    "prediction_test = model.predict(x_test)\n",
    "prediction_test[prediction_test >= 0.5] = 1\n",
    "prediction_test[prediction_test < 0.5] = 0\n",
    "print(classification_report(y_test,prediction_test))\n",
    "ConfusionMatrixDisplay.from_predictions(y_test,prediction_test)\n",
    "plt.show()"
   ]
  },
  {
   "cell_type": "code",
   "execution_count": 27,
   "id": "23ff315b",
   "metadata": {
    "execution": {
     "iopub.execute_input": "2022-07-28T00:00:47.737003Z",
     "iopub.status.busy": "2022-07-28T00:00:47.736247Z",
     "iopub.status.idle": "2022-07-28T00:00:47.965117Z",
     "shell.execute_reply": "2022-07-28T00:00:47.963846Z"
    },
    "papermill": {
     "duration": 0.691033,
     "end_time": "2022-07-28T00:00:47.967742",
     "exception": false,
     "start_time": "2022-07-28T00:00:47.276709",
     "status": "completed"
    },
    "tags": []
   },
   "outputs": [
    {
     "data": {
      "text/plain": [
       "Text(0.5, 0, 'Number of Epochs')"
      ]
     },
     "execution_count": 27,
     "metadata": {},
     "output_type": "execute_result"
    },
    {
     "data": {
      "image/png": "[encoded data removed]",
      "text/plain": [
       "<Figure size 432x288 with 1 Axes>"
      ]
     },
     "metadata": {
      "needs_background": "light"
     },
     "output_type": "display_data"
    }
   ],
   "source": [
    "plt.plot(history.history['accuracy'])\n",
    "plt.plot(history.history['val_accuracy'])\n",
    "plt.legend(['Training Accuracy','Validation Accuracy'])\n",
    "plt.title('Accuracy')\n",
    "plt.xlabel('Number of Epochs')"
   ]
  },
  {
   "cell_type": "code",
   "execution_count": 28,
   "id": "9c6d7da0",
   "metadata": {
    "execution": {
     "iopub.execute_input": "2022-07-28T00:00:48.902690Z",
     "iopub.status.busy": "2022-07-28T00:00:48.901748Z",
     "iopub.status.idle": "2022-07-28T00:00:49.116832Z",
     "shell.execute_reply": "2022-07-28T00:00:49.116029Z"
    },
    "papermill": {
     "duration": 0.683979,
     "end_time": "2022-07-28T00:00:49.119232",
     "exception": false,
     "start_time": "2022-07-28T00:00:48.435253",
     "status": "completed"
    },
    "tags": []
   },
   "outputs": [
    {
     "data": {
      "text/plain": [
       "Text(0.5, 0, 'Number of Epochs')"
      ]
     },
     "execution_count": 28,
     "metadata": {},
     "output_type": "execute_result"
    },
    {
     "data": {
      "image/png": "[encoded data removed]",
      "text/plain": [
       "<Figure size 432x288 with 1 Axes>"
      ]
     },
     "metadata": {
      "needs_background": "light"
     },
     "output_type": "display_data"
    }
   ],
   "source": [
    "plt.plot(history.history['loss'])\n",
    "plt.plot(history.history['val_loss'])\n",
    "plt.legend(['Training Loss','Validation Loss'])\n",
    "plt.title('Loss')\n",
    "plt.xlabel('Number of Epochs')"
   ]
  }
 ],
 "metadata": {
  "kernelspec": {
   "display_name": "Python 3",
   "language": "python",
   "name": "python3"
  },
  "language_info": {
   "codemirror_mode": {
    "name": "ipython",
    "version": 3
   },
   "file_extension": ".py",
   "mimetype": "text/x-python",
   "name": "python",
   "nbconvert_exporter": "python",
   "pygments_lexer": "ipython3",
   "version": "3.7.12"
  },
  "papermill": {
   "default_parameters": {},
   "duration": 6160.872966,
   "end_time": "2022-07-28T00:00:52.646317",
   "environment_variables": {},
   "exception": null,
   "input_path": "__notebook__.ipynb",
   "output_path": "__notebook__.ipynb",
   "parameters": {},
   "start_time": "2022-07-27T22:18:11.773351",
   "version": "2.3.4"
  }
 },
 "nbformat": 4,
 "nbformat_minor": 5
}
